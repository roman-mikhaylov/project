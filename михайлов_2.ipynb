{
  "nbformat": 4,
  "nbformat_minor": 0,
  "metadata": {
    "colab": {
      "provenance": [],
      "authorship_tag": "ABX9TyMmZN2VlI1EvKO1+BK6VYJh",
      "include_colab_link": true
    },
    "kernelspec": {
      "name": "python3",
      "display_name": "Python 3"
    },
    "language_info": {
      "name": "python"
    }
  },
  "cells": [
    {
      "cell_type": "markdown",
      "metadata": {
        "id": "view-in-github",
        "colab_type": "text"
      },
      "source": [
        "<a href=\"https://colab.research.google.com/github/roman-mikhaylov/project/blob/main/%D0%BC%D0%B8%D1%85%D0%B0%D0%B9%D0%BB%D0%BE%D0%B2_2.ipynb\" target=\"_parent\"><img src=\"https://colab.research.google.com/assets/colab-badge.svg\" alt=\"Open In Colab\"/></a>"
      ]
    },
    {
      "cell_type": "code",
      "execution_count": null,
      "metadata": {
        "id": "Ea9VUF08nBHT"
      },
      "outputs": [],
      "source": [
        "# Давай представим, что мы пишем бэкенд для сайта ветеринарной клиники.\n",
        "# Нам нужно написать программу, которая будет запрашивать у пользователя вид питомца,\n",
        "# его возраст и кличку, а потом выведет все эти данные в одно предложение."
      ]
    },
    {
      "cell_type": "markdown",
      "source": [
        "вводим данные"
      ],
      "metadata": {
        "id": "TiiCJUP1q3_I"
      }
    },
    {
      "cell_type": "code",
      "source": [
        "tape = input (\"введите вид питомца \")\n",
        "name = input (\"введите имя питомца \")\n",
        "age = input (\"введите возраст питомца \")"
      ],
      "metadata": {
        "colab": {
          "base_uri": "https://localhost:8080/"
        },
        "id": "dfxsS8jonZIR",
        "outputId": "f441b00c-49f3-4b9b-f945-d0ea685e017e"
      },
      "execution_count": 18,
      "outputs": [
        {
          "name": "stdout",
          "output_type": "stream",
          "text": [
            "введите вид питомца кот\n",
            "введите имя питомца кот\n",
            "введите возраст питомца 4\n"
          ]
        }
      ]
    },
    {
      "cell_type": "markdown",
      "source": [
        "выводим на печать"
      ],
      "metadata": {
        "id": "6BBgW2zlq04l"
      }
    },
    {
      "cell_type": "code",
      "source": [
        "print('это', tape, ' по имени', '\"', name, '\"', 'с возрастом',age, 'года')"
      ],
      "metadata": {
        "colab": {
          "base_uri": "https://localhost:8080/"
        },
        "id": "-4JonYi7nrj-",
        "outputId": "cce834a1-6e0d-4df5-b58c-2d5687511cdf"
      },
      "execution_count": 19,
      "outputs": [
        {
          "output_type": "stream",
          "name": "stdout",
          "text": [
            "это кот  по имени \" кот \" с возрастом 4 года\n"
          ]
        }
      ]
    }
  ]
}